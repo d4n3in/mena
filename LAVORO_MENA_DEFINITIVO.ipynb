{
 "cells": [
  {
   "cell_type": "markdown",
   "metadata": {},
   "source": [
    "# Packages"
   ]
  },
  {
   "cell_type": "code",
   "execution_count": 3,
   "metadata": {},
   "outputs": [],
   "source": [
    "import networkx as nx\n",
    "from netwulf import visualize\n",
    "#from igraph import *\n",
    "import networkx as nx\n",
    "import numpy as np\n",
    "import pandas as pd\n",
    "import seaborn as sns\n",
    "#import cairocffi as cairo"
   ]
  },
  {
   "cell_type": "markdown",
   "metadata": {},
   "source": [
    "# Importing the csv"
   ]
  },
  {
   "cell_type": "code",
   "execution_count": 4,
   "metadata": {},
   "outputs": [
    {
     "name": "stderr",
     "output_type": "stream",
     "text": [
      "/anaconda3/lib/python3.7/site-packages/pandas/io/excel.py:329: FutureWarning: The `sheetname` keyword is deprecated, use `sheet_name` instead\n",
      "  **kwds)\n"
     ]
    }
   ],
   "source": [
    "df_sheet1 = pd.read_excel(\"/Users/federiconutarelli 1/Desktop/Jupyterdemo/dati.xlsx\", sheetname=1, skiprows = 2)\n",
    "#df_sheet1  \n",
    "df_sheet2 = pd.read_excel(\"/Users/federiconutarelli 1/Desktop/Jupyterdemo/dati.xlsx\", sheetname=2, skiprows = 2)\n",
    "#df_sheet2   \n",
    "#df_sheet1.iloc[0] \n",
    "#mi da tutta la prima riga del dataframe (escluso l'header). A me questo servirà molto in futuro quando creerò il dizionario.\n",
    "\n"
   ]
  },
  {
   "cell_type": "code",
   "execution_count": 5,
   "metadata": {},
   "outputs": [],
   "source": [
    "paesi_mena = list(df_sheet1.columns)[3:] #prendo la prima riga a partire dal terzo elemento in pratica\n",
    "paesi_mena = np.array(list(df_sheet1.columns)[3:], dtype = str)\n",
    "#paesi_mena"
   ]
  },
  {
   "cell_type": "code",
   "execution_count": 6,
   "metadata": {},
   "outputs": [],
   "source": [
    "valori_imp = np.array(df_sheet1[paesi_mena],dtype = int)\n",
    "valori_exp = np.array(df_sheet2[paesi_mena],dtype = int)"
   ]
  },
  {
   "cell_type": "code",
   "execution_count": 7,
   "metadata": {},
   "outputs": [],
   "source": [
    "importing_country_array = np.array(df_sheet1['Importing Country'], dtype = str)\n",
    "#np.unique(importing_country_array, return_counts=True) #unique mostra quante volte un elemento è ripetuto in un array (22 volte nel nostro caso) e ogni elemento dell'array singolarmente\n",
    "importing_country_array_unique = np.unique(importing_country_array, return_counts=True)[0]\n",
    "exporting_country_array = np.array(df_sheet2['Exporting Country'], dtype = str)\n",
    "exporting_country_array_unique = np.unique(exporting_country_array, return_counts = True)[0]"
   ]
  },
  {
   "cell_type": "code",
   "execution_count": 8,
   "metadata": {},
   "outputs": [],
   "source": [
    "products_array = np.array(df_sheet1['descriptions'], dtype = str)\n",
    "#np.unique(products_array, return_counts=True)\n",
    "products_array_unique = np.unique(products_array, return_counts=True)[0]"
   ]
  },
  {
   "cell_type": "code",
   "execution_count": 9,
   "metadata": {},
   "outputs": [
    {
     "data": {
      "text/plain": [
       "array(['Paddy rice', 'Wheat', 'Cereal grains nec', ...,\n",
       "       'Food products nec', 'Beverages and tobacco products', 'nan'],\n",
       "      dtype='<U64')"
      ]
     },
     "execution_count": 9,
     "metadata": {},
     "output_type": "execute_result"
    }
   ],
   "source": [
    "#Esempio con AUS. Devo implementarlo per ciascun paese in importing_country_array_unique.\n",
    "\n",
    "#df_sheet1[df_sheet1[\"Importing Country\"] == \"AUS\"] #maschera (modo di selezionare); serve per accedere ai valori per ciascuna country \n",
    "\n",
    "#df_sheet1[df_sheet1[\"Importing Country\"] == \"AUS\"]['Cyprus']\n",
    "#df_sheet1[df_sheet1[\"Importing Country\"] == \"AUS\"]['France']\n",
    "#df_sheet1[df_sheet1[\"Importing Country\"] == \"AUS\"]['Italy']\n",
    "\n",
    "\n",
    "#type(np.array(df_sheet1[df_sheet1[\"Importing Country\"] == \"AUS\"]['Italy'], dtype = int))\n",
    "#np.array(df_sheet1[df_sheet1[\"Importing Country\"] == \"AUS\"]['Cyprus'], dtype = int)\n",
    "products_array"
   ]
  },
  {
   "cell_type": "markdown",
   "metadata": {},
   "source": [
    "# Creating Dictionary for any country"
   ]
  },
  {
   "cell_type": "code",
   "execution_count": 27,
   "metadata": {},
   "outputs": [
    {
     "data": {
      "text/plain": [
       "[{'Country': 'Cyprus',\n",
       "  'goods': array(['Animal products nec', 'Beverages and tobacco products',\n",
       "         'Bovine cattle, sheep and goats, horses', 'Bovine meat products',\n",
       "         'Cereal grains nec', 'Crops nec', 'Dairy products', 'Fishing',\n",
       "         'Food products nec', 'Meat products nec', 'Minerals nec',\n",
       "         'Oil seeds', 'Paddy rice', 'Plant-based fibers', 'Processed rice',\n",
       "         'Raw milk', 'Sugar', 'Sugar cane, sugar beet',\n",
       "         'Vegetable oils and fats', 'Vegetables, fruit, nuts', 'Wheat',\n",
       "         'Wool, silk-worm cocoons', 'nan'], dtype='<U64'),\n",
       "  'land_equivalent': array([ 0,  1, 15, 25,  0,  0,  0,  0,  0,  0,  0,  0,  9,  0,  0,  0,  0,\n",
       "          0,  0,  0,  0,  0])},\n",
       " {'Country': 'France',\n",
       "  'goods': array(['Animal products nec', 'Beverages and tobacco products',\n",
       "         'Bovine cattle, sheep and goats, horses', 'Bovine meat products',\n",
       "         'Cereal grains nec', 'Crops nec', 'Dairy products', 'Fishing',\n",
       "         'Food products nec', 'Meat products nec', 'Minerals nec',\n",
       "         'Oil seeds', 'Paddy rice', 'Plant-based fibers', 'Processed rice',\n",
       "         'Raw milk', 'Sugar', 'Sugar cane, sugar beet',\n",
       "         'Vegetable oils and fats', 'Vegetables, fruit, nuts', 'Wheat',\n",
       "         'Wool, silk-worm cocoons', 'nan'], dtype='<U64'),\n",
       "  'land_equivalent': array([   4, 1488, 3237,  485, 1218,   73,   13,  409,  970,    5,    4,\n",
       "            0,  270,    7,    1,    1,    0,    5,    0,    0,   19,   13])},\n",
       " {'Country': 'Greece',\n",
       "  'goods': array(['Animal products nec', 'Beverages and tobacco products',\n",
       "         'Bovine cattle, sheep and goats, horses', 'Bovine meat products',\n",
       "         'Cereal grains nec', 'Crops nec', 'Dairy products', 'Fishing',\n",
       "         'Food products nec', 'Meat products nec', 'Minerals nec',\n",
       "         'Oil seeds', 'Paddy rice', 'Plant-based fibers', 'Processed rice',\n",
       "         'Raw milk', 'Sugar', 'Sugar cane, sugar beet',\n",
       "         'Vegetable oils and fats', 'Vegetables, fruit, nuts', 'Wheat',\n",
       "         'Wool, silk-worm cocoons', 'nan'], dtype='<U64'),\n",
       "  'land_equivalent': array([  196,  4336,  3231, 25224,   152,    73,  1955,   393,  1334,\n",
       "            15,     4,     0,   560,    37,     0,    11,    22,    10,\n",
       "             0,     2,   101,   146])},\n",
       " {'Country': 'Italy',\n",
       "  'goods': array(['Animal products nec', 'Beverages and tobacco products',\n",
       "         'Bovine cattle, sheep and goats, horses', 'Bovine meat products',\n",
       "         'Cereal grains nec', 'Crops nec', 'Dairy products', 'Fishing',\n",
       "         'Food products nec', 'Meat products nec', 'Minerals nec',\n",
       "         'Oil seeds', 'Paddy rice', 'Plant-based fibers', 'Processed rice',\n",
       "         'Raw milk', 'Sugar', 'Sugar cane, sugar beet',\n",
       "         'Vegetable oils and fats', 'Vegetables, fruit, nuts', 'Wheat',\n",
       "         'Wool, silk-worm cocoons', 'nan'], dtype='<U64'),\n",
       "  'land_equivalent': array([  405,  2828,  5414, 18875,  1422,    77,     3,  4253,  1404,\n",
       "            97,    67,     0,   979,    23,    17,    23,    66,    59,\n",
       "             1,     1,   735,   290])},\n",
       " {'Country': 'Malta',\n",
       "  'goods': array(['Animal products nec', 'Beverages and tobacco products',\n",
       "         'Bovine cattle, sheep and goats, horses', 'Bovine meat products',\n",
       "         'Cereal grains nec', 'Crops nec', 'Dairy products', 'Fishing',\n",
       "         'Food products nec', 'Meat products nec', 'Minerals nec',\n",
       "         'Oil seeds', 'Paddy rice', 'Plant-based fibers', 'Processed rice',\n",
       "         'Raw milk', 'Sugar', 'Sugar cane, sugar beet',\n",
       "         'Vegetable oils and fats', 'Vegetables, fruit, nuts', 'Wheat',\n",
       "         'Wool, silk-worm cocoons', 'nan'], dtype='<U64'),\n",
       "  'land_equivalent': array([0, 0, 0, 1, 0, 0, 0, 0, 0, 0, 0, 0, 3, 0, 0, 0, 0, 0, 0, 0, 0, 0])},\n",
       " {'Country': 'Portugal',\n",
       "  'goods': array(['Animal products nec', 'Beverages and tobacco products',\n",
       "         'Bovine cattle, sheep and goats, horses', 'Bovine meat products',\n",
       "         'Cereal grains nec', 'Crops nec', 'Dairy products', 'Fishing',\n",
       "         'Food products nec', 'Meat products nec', 'Minerals nec',\n",
       "         'Oil seeds', 'Paddy rice', 'Plant-based fibers', 'Processed rice',\n",
       "         'Raw milk', 'Sugar', 'Sugar cane, sugar beet',\n",
       "         'Vegetable oils and fats', 'Vegetables, fruit, nuts', 'Wheat',\n",
       "         'Wool, silk-worm cocoons', 'nan'], dtype='<U64'),\n",
       "  'land_equivalent': array([ 8,  6, 29, 79,  6,  0,  0, 28, 20,  0,  0,  0, 69,  3,  0,  0,  0,\n",
       "          0,  0,  0,  3,  3])},\n",
       " {'Country': 'Slovenia',\n",
       "  'goods': array(['Animal products nec', 'Beverages and tobacco products',\n",
       "         'Bovine cattle, sheep and goats, horses', 'Bovine meat products',\n",
       "         'Cereal grains nec', 'Crops nec', 'Dairy products', 'Fishing',\n",
       "         'Food products nec', 'Meat products nec', 'Minerals nec',\n",
       "         'Oil seeds', 'Paddy rice', 'Plant-based fibers', 'Processed rice',\n",
       "         'Raw milk', 'Sugar', 'Sugar cane, sugar beet',\n",
       "         'Vegetable oils and fats', 'Vegetables, fruit, nuts', 'Wheat',\n",
       "         'Wool, silk-worm cocoons', 'nan'], dtype='<U64'),\n",
       "  'land_equivalent': array([ 0, 13, 80,  9,  6,  0,  0, 39, 16,  0,  0,  0,  0,  0,  0,  0,  0,\n",
       "          0,  0,  0,  0,  0])},\n",
       " {'Country': 'Spain',\n",
       "  'goods': array(['Animal products nec', 'Beverages and tobacco products',\n",
       "         'Bovine cattle, sheep and goats, horses', 'Bovine meat products',\n",
       "         'Cereal grains nec', 'Crops nec', 'Dairy products', 'Fishing',\n",
       "         'Food products nec', 'Meat products nec', 'Minerals nec',\n",
       "         'Oil seeds', 'Paddy rice', 'Plant-based fibers', 'Processed rice',\n",
       "         'Raw milk', 'Sugar', 'Sugar cane, sugar beet',\n",
       "         'Vegetable oils and fats', 'Vegetables, fruit, nuts', 'Wheat',\n",
       "         'Wool, silk-worm cocoons', 'nan'], dtype='<U64'),\n",
       "  'land_equivalent': array([  25, 1559, 1219,  726,  253,   12,   14,  185,  318,   12,    1,\n",
       "            0,  449,   11,    0,    1,    2,    2,    0,    0,   14,   24])},\n",
       " {'Country': 'Albania',\n",
       "  'goods': array(['Animal products nec', 'Beverages and tobacco products',\n",
       "         'Bovine cattle, sheep and goats, horses', 'Bovine meat products',\n",
       "         'Cereal grains nec', 'Crops nec', 'Dairy products', 'Fishing',\n",
       "         'Food products nec', 'Meat products nec', 'Minerals nec',\n",
       "         'Oil seeds', 'Paddy rice', 'Plant-based fibers', 'Processed rice',\n",
       "         'Raw milk', 'Sugar', 'Sugar cane, sugar beet',\n",
       "         'Vegetable oils and fats', 'Vegetables, fruit, nuts', 'Wheat',\n",
       "         'Wool, silk-worm cocoons', 'nan'], dtype='<U64'),\n",
       "  'land_equivalent': array([0, 0, 0, 0, 0, 0, 0, 0, 0, 0, 0, 0, 0, 0, 0, 0, 0, 0, 0, 0, 0, 0])},\n",
       " {'Country': 'Croatia',\n",
       "  'goods': array(['Animal products nec', 'Beverages and tobacco products',\n",
       "         'Bovine cattle, sheep and goats, horses', 'Bovine meat products',\n",
       "         'Cereal grains nec', 'Crops nec', 'Dairy products', 'Fishing',\n",
       "         'Food products nec', 'Meat products nec', 'Minerals nec',\n",
       "         'Oil seeds', 'Paddy rice', 'Plant-based fibers', 'Processed rice',\n",
       "         'Raw milk', 'Sugar', 'Sugar cane, sugar beet',\n",
       "         'Vegetable oils and fats', 'Vegetables, fruit, nuts', 'Wheat',\n",
       "         'Wool, silk-worm cocoons', 'nan'], dtype='<U64'),\n",
       "  'land_equivalent': array([  0, 447, 285,  67, 146,  25,   0, 250,  30,   3,   5,   0, 117,\n",
       "           2,   1,   1,   0,   6,   3,   2,  26,  40])},\n",
       " {'Country': 'Israel',\n",
       "  'goods': array(['Animal products nec', 'Beverages and tobacco products',\n",
       "         'Bovine cattle, sheep and goats, horses', 'Bovine meat products',\n",
       "         'Cereal grains nec', 'Crops nec', 'Dairy products', 'Fishing',\n",
       "         'Food products nec', 'Meat products nec', 'Minerals nec',\n",
       "         'Oil seeds', 'Paddy rice', 'Plant-based fibers', 'Processed rice',\n",
       "         'Raw milk', 'Sugar', 'Sugar cane, sugar beet',\n",
       "         'Vegetable oils and fats', 'Vegetables, fruit, nuts', 'Wheat',\n",
       "         'Wool, silk-worm cocoons', 'nan'], dtype='<U64'),\n",
       "  'land_equivalent': array([ 0,  4,  3, 20,  4,  0,  4,  0,  1,  0,  0,  0,  1,  1,  0,  0,  0,\n",
       "          0,  0,  0,  0,  0])},\n",
       " {'Country': 'Turkey',\n",
       "  'goods': array(['Animal products nec', 'Beverages and tobacco products',\n",
       "         'Bovine cattle, sheep and goats, horses', 'Bovine meat products',\n",
       "         'Cereal grains nec', 'Crops nec', 'Dairy products', 'Fishing',\n",
       "         'Food products nec', 'Meat products nec', 'Minerals nec',\n",
       "         'Oil seeds', 'Paddy rice', 'Plant-based fibers', 'Processed rice',\n",
       "         'Raw milk', 'Sugar', 'Sugar cane, sugar beet',\n",
       "         'Vegetable oils and fats', 'Vegetables, fruit, nuts', 'Wheat',\n",
       "         'Wool, silk-worm cocoons', 'nan'], dtype='<U64'),\n",
       "  'land_equivalent': array([ 127, 5907, 2661, 2893, 1311,   92,  244,  593,  700,    3,    1,\n",
       "            0,  112,   57,    2,    0,   30,   61,    0,   98,  279,   29])},\n",
       " {'Country': 'Egypt',\n",
       "  'goods': array(['Animal products nec', 'Beverages and tobacco products',\n",
       "         'Bovine cattle, sheep and goats, horses', 'Bovine meat products',\n",
       "         'Cereal grains nec', 'Crops nec', 'Dairy products', 'Fishing',\n",
       "         'Food products nec', 'Meat products nec', 'Minerals nec',\n",
       "         'Oil seeds', 'Paddy rice', 'Plant-based fibers', 'Processed rice',\n",
       "         'Raw milk', 'Sugar', 'Sugar cane, sugar beet',\n",
       "         'Vegetable oils and fats', 'Vegetables, fruit, nuts', 'Wheat',\n",
       "         'Wool, silk-worm cocoons', 'nan'], dtype='<U64'),\n",
       "  'land_equivalent': array([5731,  284, 1251, 4187,   35,   33,  162,  361,    2,    0,    3,\n",
       "            0,   80,   44,    1,    0,    1,   10,  277,    3,   58,    9])},\n",
       " {'Country': 'Morocco',\n",
       "  'goods': array(['Animal products nec', 'Beverages and tobacco products',\n",
       "         'Bovine cattle, sheep and goats, horses', 'Bovine meat products',\n",
       "         'Cereal grains nec', 'Crops nec', 'Dairy products', 'Fishing',\n",
       "         'Food products nec', 'Meat products nec', 'Minerals nec',\n",
       "         'Oil seeds', 'Paddy rice', 'Plant-based fibers', 'Processed rice',\n",
       "         'Raw milk', 'Sugar', 'Sugar cane, sugar beet',\n",
       "         'Vegetable oils and fats', 'Vegetables, fruit, nuts', 'Wheat',\n",
       "         'Wool, silk-worm cocoons', 'nan'], dtype='<U64'),\n",
       "  'land_equivalent': array([  0, 104,  60, 129,   6,  18,   3,   5, 149,   1,   0,   4,  85,\n",
       "          24,   0,   0,   0,   0,   0,   0,   8,   0])},\n",
       " {'Country': 'Tunisia',\n",
       "  'goods': array(['Animal products nec', 'Beverages and tobacco products',\n",
       "         'Bovine cattle, sheep and goats, horses', 'Bovine meat products',\n",
       "         'Cereal grains nec', 'Crops nec', 'Dairy products', 'Fishing',\n",
       "         'Food products nec', 'Meat products nec', 'Minerals nec',\n",
       "         'Oil seeds', 'Paddy rice', 'Plant-based fibers', 'Processed rice',\n",
       "         'Raw milk', 'Sugar', 'Sugar cane, sugar beet',\n",
       "         'Vegetable oils and fats', 'Vegetables, fruit, nuts', 'Wheat',\n",
       "         'Wool, silk-worm cocoons', 'nan'], dtype='<U64'),\n",
       "  'land_equivalent': array([  0,  54,  46, 177,  12,   0,   0,   8,  43,   7,   0,   0,  37,\n",
       "           1,   0,   0,   1,   0,   0,   0,   1,   0])}]"
      ]
     },
     "execution_count": 27,
     "metadata": {},
     "output_type": "execute_result"
    }
   ],
   "source": [
    "importing_country_array_unique = importing_country_array_unique[0:129]\n",
    "EXP = []\n",
    "for i in importing_country_array_unique:\n",
    "    for j in paesi_mena:\n",
    "        dicty = {'Country': j, 'goods': products_array_unique, 'land_equivalent':(np.array(df_sheet1[df_sheet1[\"Importing Country\"]== i][j],dtype = int))}\n",
    "        EXP.append(dicty)\n",
    "\n",
    "#EXP \n",
    "\n",
    "#EXP è una lista di dizionari\n",
    "#notiamo che l'ordine non è quello del dataset bensì quello dell'array importing_country_array_unique, cosicchè,\n",
    "#ad esempio EXP[0] NON è l'export dell'australia verso cipro, bensì 'export dell'australia verso ALB ecc...\n",
    "\n",
    "#ora occorre dividere la mega lista EXP di 15 in 15 e chiamarla con il nome del paese nell'ordine\n",
    "#presente in importing_country_array_unique.\n",
    "\n",
    "li = [EXP[x:x+15] for x in range(0,1935,15)]\n",
    "#li[0]"
   ]
  },
  {
   "cell_type": "code",
   "execution_count": 11,
   "metadata": {},
   "outputs": [
    {
     "data": {
      "text/plain": [
       "{'Country': 'Cyprus',\n",
       " 'goods': array(['Animal products nec', 'Beverages and tobacco products',\n",
       "        'Bovine cattle, sheep and goats, horses', 'Bovine meat products',\n",
       "        'Cereal grains nec', 'Crops nec', 'Dairy products', 'Fishing',\n",
       "        'Food products nec', 'Meat products nec', 'Minerals nec',\n",
       "        'Oil seeds', 'Paddy rice', 'Plant-based fibers', 'Processed rice',\n",
       "        'Raw milk', 'Sugar', 'Sugar cane, sugar beet',\n",
       "        'Vegetable oils and fats', 'Vegetables, fruit, nuts', 'Wheat',\n",
       "        'Wool, silk-worm cocoons', 'nan'], dtype='<U64'),\n",
       " 'land_equivalent': array([ 0,  1, 15, 25,  0,  0,  0,  0,  0,  0,  0,  0,  9,  0,  0,  0,  0,\n",
       "         0,  0,  0,  0,  0])}"
      ]
     },
     "execution_count": 11,
     "metadata": {},
     "output_type": "execute_result"
    }
   ],
   "source": [
    "EXP[0]"
   ]
  },
  {
   "cell_type": "code",
   "execution_count": 28,
   "metadata": {},
   "outputs": [
    {
     "data": {
      "text/plain": [
       "[[{'Country': 'Cyprus',\n",
       "   'goods': array(['Animal products nec', 'Beverages and tobacco products',\n",
       "          'Bovine cattle, sheep and goats, horses', 'Bovine meat products',\n",
       "          'Cereal grains nec', 'Crops nec', 'Dairy products', 'Fishing',\n",
       "          'Food products nec', 'Meat products nec', 'Minerals nec',\n",
       "          'Oil seeds', 'Paddy rice', 'Plant-based fibers', 'Processed rice',\n",
       "          'Raw milk', 'Sugar', 'Sugar cane, sugar beet',\n",
       "          'Vegetable oils and fats', 'Vegetables, fruit, nuts', 'Wheat',\n",
       "          'Wool, silk-worm cocoons', 'nan'], dtype='<U64'),\n",
       "   'land_equivalent': array([ 0,  6, 52, 57,  0,  0,  0,  1,  0,  0,  0,  0, 12,  2,  0,  0,  0,\n",
       "          10,  0,  0,  0,  0])},\n",
       "  {'Country': 'France',\n",
       "   'goods': array(['Animal products nec', 'Beverages and tobacco products',\n",
       "          'Bovine cattle, sheep and goats, horses', 'Bovine meat products',\n",
       "          'Cereal grains nec', 'Crops nec', 'Dairy products', 'Fishing',\n",
       "          'Food products nec', 'Meat products nec', 'Minerals nec',\n",
       "          'Oil seeds', 'Paddy rice', 'Plant-based fibers', 'Processed rice',\n",
       "          'Raw milk', 'Sugar', 'Sugar cane, sugar beet',\n",
       "          'Vegetable oils and fats', 'Vegetables, fruit, nuts', 'Wheat',\n",
       "          'Wool, silk-worm cocoons', 'nan'], dtype='<U64'),\n",
       "   'land_equivalent': array([   64, 22335, 27991,  3368, 17801,  1033,   210,  5009,  5052,\n",
       "             70,    82,     2,  4707,   188,    14,    23,     8,   109,\n",
       "              0,     8,   485,   677])},\n",
       "  {'Country': 'Greece',\n",
       "   'goods': array(['Animal products nec', 'Beverages and tobacco products',\n",
       "          'Bovine cattle, sheep and goats, horses', 'Bovine meat products',\n",
       "          'Cereal grains nec', 'Crops nec', 'Dairy products', 'Fishing',\n",
       "          'Food products nec', 'Meat products nec', 'Minerals nec',\n",
       "          'Oil seeds', 'Paddy rice', 'Plant-based fibers', 'Processed rice',\n",
       "          'Raw milk', 'Sugar', 'Sugar cane, sugar beet',\n",
       "          'Vegetable oils and fats', 'Vegetables, fruit, nuts', 'Wheat',\n",
       "          'Wool, silk-worm cocoons', 'nan'], dtype='<U64'),\n",
       "   'land_equivalent': array([  91,  738, 2662, 9002,  218,   26, 1837,  258,  802,    3,   12,\n",
       "             0,  389,   34,    0,    3,   34,   51,    0,    0,  123,   32])},\n",
       "  {'Country': 'Italy',\n",
       "   'goods': array(['Animal products nec', 'Beverages and tobacco products',\n",
       "          'Bovine cattle, sheep and goats, horses', 'Bovine meat products',\n",
       "          'Cereal grains nec', 'Crops nec', 'Dairy products', 'Fishing',\n",
       "          'Food products nec', 'Meat products nec', 'Minerals nec',\n",
       "          'Oil seeds', 'Paddy rice', 'Plant-based fibers', 'Processed rice',\n",
       "          'Raw milk', 'Sugar', 'Sugar cane, sugar beet',\n",
       "          'Vegetable oils and fats', 'Vegetables, fruit, nuts', 'Wheat',\n",
       "          'Wool, silk-worm cocoons', 'nan'], dtype='<U64'),\n",
       "   'land_equivalent': array([ 1517,  5310, 13477, 15531,  6237,   320,     6,  8739,  2371,\n",
       "            209,   252,     0,  1873,   124,    17,    29,   297,   247,\n",
       "              3,     4,  2335,   989])},\n",
       "  {'Country': 'Malta',\n",
       "   'goods': array(['Animal products nec', 'Beverages and tobacco products',\n",
       "          'Bovine cattle, sheep and goats, horses', 'Bovine meat products',\n",
       "          'Cereal grains nec', 'Crops nec', 'Dairy products', 'Fishing',\n",
       "          'Food products nec', 'Meat products nec', 'Minerals nec',\n",
       "          'Oil seeds', 'Paddy rice', 'Plant-based fibers', 'Processed rice',\n",
       "          'Raw milk', 'Sugar', 'Sugar cane, sugar beet',\n",
       "          'Vegetable oils and fats', 'Vegetables, fruit, nuts', 'Wheat',\n",
       "          'Wool, silk-worm cocoons', 'nan'], dtype='<U64'),\n",
       "   'land_equivalent': array([ 0,  2,  2,  7,  0,  0,  0,  0,  0,  0,  0,  0, 18,  0,  0,  0,  0,\n",
       "           0,  0,  0,  0,  0])},\n",
       "  {'Country': 'Portugal',\n",
       "   'goods': array(['Animal products nec', 'Beverages and tobacco products',\n",
       "          'Bovine cattle, sheep and goats, horses', 'Bovine meat products',\n",
       "          'Cereal grains nec', 'Crops nec', 'Dairy products', 'Fishing',\n",
       "          'Food products nec', 'Meat products nec', 'Minerals nec',\n",
       "          'Oil seeds', 'Paddy rice', 'Plant-based fibers', 'Processed rice',\n",
       "          'Raw milk', 'Sugar', 'Sugar cane, sugar beet',\n",
       "          'Vegetable oils and fats', 'Vegetables, fruit, nuts', 'Wheat',\n",
       "          'Wool, silk-worm cocoons', 'nan'], dtype='<U64'),\n",
       "   'land_equivalent': array([ 37,  60, 307, 350, 292,   5,   0, 302, 167,   2,   1,   0, 550,\n",
       "           73,   1,   3,   8,   4,   0,   0,  34,  50])},\n",
       "  {'Country': 'Slovenia',\n",
       "   'goods': array(['Animal products nec', 'Beverages and tobacco products',\n",
       "          'Bovine cattle, sheep and goats, horses', 'Bovine meat products',\n",
       "          'Cereal grains nec', 'Crops nec', 'Dairy products', 'Fishing',\n",
       "          'Food products nec', 'Meat products nec', 'Minerals nec',\n",
       "          'Oil seeds', 'Paddy rice', 'Plant-based fibers', 'Processed rice',\n",
       "          'Raw milk', 'Sugar', 'Sugar cane, sugar beet',\n",
       "          'Vegetable oils and fats', 'Vegetables, fruit, nuts', 'Wheat',\n",
       "          'Wool, silk-worm cocoons', 'nan'], dtype='<U64'),\n",
       "   'land_equivalent': array([  0,  46, 213,  30,  51,   0,   0,  78,  44,   0,   0,   0,   2,\n",
       "            0,   0,   0,   0,   0,   0,   0,   1,   0])},\n",
       "  {'Country': 'Spain',\n",
       "   'goods': array(['Animal products nec', 'Beverages and tobacco products',\n",
       "          'Bovine cattle, sheep and goats, horses', 'Bovine meat products',\n",
       "          'Cereal grains nec', 'Crops nec', 'Dairy products', 'Fishing',\n",
       "          'Food products nec', 'Meat products nec', 'Minerals nec',\n",
       "          'Oil seeds', 'Paddy rice', 'Plant-based fibers', 'Processed rice',\n",
       "          'Raw milk', 'Sugar', 'Sugar cane, sugar beet',\n",
       "          'Vegetable oils and fats', 'Vegetables, fruit, nuts', 'Wheat',\n",
       "          'Wool, silk-worm cocoons', 'nan'], dtype='<U64'),\n",
       "   'land_equivalent': array([ 1057,  3359, 10600,  6857, 25696,   103,   192,  1650,  1811,\n",
       "            133,    11,     0,  2730,   179,     1,    10,   291,    13,\n",
       "              5,     0,   210,   215])},\n",
       "  {'Country': 'Albania',\n",
       "   'goods': array(['Animal products nec', 'Beverages and tobacco products',\n",
       "          'Bovine cattle, sheep and goats, horses', 'Bovine meat products',\n",
       "          'Cereal grains nec', 'Crops nec', 'Dairy products', 'Fishing',\n",
       "          'Food products nec', 'Meat products nec', 'Minerals nec',\n",
       "          'Oil seeds', 'Paddy rice', 'Plant-based fibers', 'Processed rice',\n",
       "          'Raw milk', 'Sugar', 'Sugar cane, sugar beet',\n",
       "          'Vegetable oils and fats', 'Vegetables, fruit, nuts', 'Wheat',\n",
       "          'Wool, silk-worm cocoons', 'nan'], dtype='<U64'),\n",
       "   'land_equivalent': array([  0, 128,  79, 246,   9,   0,   1, 437, 276,   5,   3,   0,  19,\n",
       "           27,   1,   1,   0,   5,   0,   0,   3,   1])},\n",
       "  {'Country': 'Croatia',\n",
       "   'goods': array(['Animal products nec', 'Beverages and tobacco products',\n",
       "          'Bovine cattle, sheep and goats, horses', 'Bovine meat products',\n",
       "          'Cereal grains nec', 'Crops nec', 'Dairy products', 'Fishing',\n",
       "          'Food products nec', 'Meat products nec', 'Minerals nec',\n",
       "          'Oil seeds', 'Paddy rice', 'Plant-based fibers', 'Processed rice',\n",
       "          'Raw milk', 'Sugar', 'Sugar cane, sugar beet',\n",
       "          'Vegetable oils and fats', 'Vegetables, fruit, nuts', 'Wheat',\n",
       "          'Wool, silk-worm cocoons', 'nan'], dtype='<U64'),\n",
       "   'land_equivalent': array([   0,  652, 1017,  242,  147,   57,    2,  573,  138,   23,   21,\n",
       "             4,  216,    6,    7,   25,    2,   12,    4,    5,   85,   23])},\n",
       "  {'Country': 'Israel',\n",
       "   'goods': array(['Animal products nec', 'Beverages and tobacco products',\n",
       "          'Bovine cattle, sheep and goats, horses', 'Bovine meat products',\n",
       "          'Cereal grains nec', 'Crops nec', 'Dairy products', 'Fishing',\n",
       "          'Food products nec', 'Meat products nec', 'Minerals nec',\n",
       "          'Oil seeds', 'Paddy rice', 'Plant-based fibers', 'Processed rice',\n",
       "          'Raw milk', 'Sugar', 'Sugar cane, sugar beet',\n",
       "          'Vegetable oils and fats', 'Vegetables, fruit, nuts', 'Wheat',\n",
       "          'Wool, silk-worm cocoons', 'nan'], dtype='<U64'),\n",
       "   'land_equivalent': array([  0, 236, 157, 543,  83,   0,  63,   1,  45,   0,   0,   0,  50,\n",
       "          181,   3,   1,   3,   2,   0,   0,  69,   4])},\n",
       "  {'Country': 'Turkey',\n",
       "   'goods': array(['Animal products nec', 'Beverages and tobacco products',\n",
       "          'Bovine cattle, sheep and goats, horses', 'Bovine meat products',\n",
       "          'Cereal grains nec', 'Crops nec', 'Dairy products', 'Fishing',\n",
       "          'Food products nec', 'Meat products nec', 'Minerals nec',\n",
       "          'Oil seeds', 'Paddy rice', 'Plant-based fibers', 'Processed rice',\n",
       "          'Raw milk', 'Sugar', 'Sugar cane, sugar beet',\n",
       "          'Vegetable oils and fats', 'Vegetables, fruit, nuts', 'Wheat',\n",
       "          'Wool, silk-worm cocoons', 'nan'], dtype='<U64'),\n",
       "   'land_equivalent': array([  143,  6499,  2942, 27681,  1554,   134,   865,  1373,  1729,\n",
       "              3,     2,     0,   342,   235,     5,     3,   134,    50,\n",
       "              1,   141,   342,     7])},\n",
       "  {'Country': 'Egypt',\n",
       "   'goods': array(['Animal products nec', 'Beverages and tobacco products',\n",
       "          'Bovine cattle, sheep and goats, horses', 'Bovine meat products',\n",
       "          'Cereal grains nec', 'Crops nec', 'Dairy products', 'Fishing',\n",
       "          'Food products nec', 'Meat products nec', 'Minerals nec',\n",
       "          'Oil seeds', 'Paddy rice', 'Plant-based fibers', 'Processed rice',\n",
       "          'Raw milk', 'Sugar', 'Sugar cane, sugar beet',\n",
       "          'Vegetable oils and fats', 'Vegetables, fruit, nuts', 'Wheat',\n",
       "          'Wool, silk-worm cocoons', 'nan'], dtype='<U64'),\n",
       "   'land_equivalent': array([ 1772,  3234,  2578,  3635,   271,   417,  1542, 10087,    16,\n",
       "             10,    15,     0,   604,   493,    24,    14,     3,    96,\n",
       "             52,    46,   855,   171])},\n",
       "  {'Country': 'Morocco',\n",
       "   'goods': array(['Animal products nec', 'Beverages and tobacco products',\n",
       "          'Bovine cattle, sheep and goats, horses', 'Bovine meat products',\n",
       "          'Cereal grains nec', 'Crops nec', 'Dairy products', 'Fishing',\n",
       "          'Food products nec', 'Meat products nec', 'Minerals nec',\n",
       "          'Oil seeds', 'Paddy rice', 'Plant-based fibers', 'Processed rice',\n",
       "          'Raw milk', 'Sugar', 'Sugar cane, sugar beet',\n",
       "          'Vegetable oils and fats', 'Vegetables, fruit, nuts', 'Wheat',\n",
       "          'Wool, silk-worm cocoons', 'nan'], dtype='<U64'),\n",
       "   'land_equivalent': array([  10, 1113,  663, 1391,   68,  208,   92,  149, 1685,   17,    4,\n",
       "            63, 1061,  765,    7,    4,    0,    7,    0,   10,   83,    7])},\n",
       "  {'Country': 'Tunisia',\n",
       "   'goods': array(['Animal products nec', 'Beverages and tobacco products',\n",
       "          'Bovine cattle, sheep and goats, horses', 'Bovine meat products',\n",
       "          'Cereal grains nec', 'Crops nec', 'Dairy products', 'Fishing',\n",
       "          'Food products nec', 'Meat products nec', 'Minerals nec',\n",
       "          'Oil seeds', 'Paddy rice', 'Plant-based fibers', 'Processed rice',\n",
       "          'Raw milk', 'Sugar', 'Sugar cane, sugar beet',\n",
       "          'Vegetable oils and fats', 'Vegetables, fruit, nuts', 'Wheat',\n",
       "          'Wool, silk-worm cocoons', 'nan'], dtype='<U64'),\n",
       "   'land_equivalent': array([   0,  519,  541, 1638,   39,    0,    3,   46,  444,   72,    1,\n",
       "             4,  358,   18,    2,    1,    5,    1,    0,    5,   16,    9])}]]"
      ]
     },
     "execution_count": 28,
     "metadata": {},
     "output_type": "execute_result"
    }
   ],
   "source": [
    "EXP_T = dict()\n",
    "for country_code in importing_country_array_unique:\n",
    "    EXP_T[\"EXP_\"+country_code] = []\n",
    "#con questo for in pratica ogni volta sovrascrivo tutto e per questo mi restituisce sempre l'ultimo valore in li!!!!\n",
    "#occorre fare un loop non annidato\n",
    "\n",
    "\n",
    "for num,key in enumerate(EXP_T.keys()):\n",
    "    EXP_T[key].append(li[num])\n",
    "EXP_T[\"EXP_AUS\"]\n",
    "#EXP_T[\"EXP_ITA\"]"
   ]
  },
  {
   "cell_type": "markdown",
   "metadata": {},
   "source": [
    "# Dictionary for import"
   ]
  },
  {
   "cell_type": "code",
   "execution_count": 15,
   "metadata": {},
   "outputs": [],
   "source": [
    "exporting_country_array_unique = exporting_country_array_unique[0:129]\n",
    "IMP = []\n",
    "for i in exporting_country_array_unique:\n",
    "    for j in paesi_mena:\n",
    "        dicty = {'Country': j, 'goods': products_array_unique, 'land_equivalent':(np.array(df_sheet2[df_sheet2[\"Exporting Country\"]== i][j],dtype = int))}\n",
    "        IMP.append(dicty)\n",
    "\n",
    "#IMP \n",
    "lis = [IMP[x:x+15] for x in range(0,1935,15)]\n",
    "#li[0]"
   ]
  },
  {
   "cell_type": "code",
   "execution_count": 16,
   "metadata": {},
   "outputs": [],
   "source": [
    "IMP_T = dict()\n",
    "for country_code in exporting_country_array_unique:\n",
    "    IMP_T[\"IMP_\"+country_code] = []\n",
    "#con questo for in pratica ogni volta sovrascrivo tutto e per questo mi restituisce sempre l'ultimo valore in li!!!!\n",
    "#occorre fare un loop non annidato\n",
    "\n",
    "\n",
    "for num,key in enumerate(IMP_T.keys()):\n",
    "    IMP_T[key].append(lis[num])\n",
    "#IMP_T[\"IMP_ALB\"]"
   ]
  },
  {
   "cell_type": "markdown",
   "metadata": {},
   "source": [
    "# Creating weights export"
   ]
  },
  {
   "cell_type": "code",
   "execution_count": 18,
   "metadata": {},
   "outputs": [
    {
     "data": {
      "text/plain": [
       "[[[140],\n",
       "  [89236],\n",
       "  [16315],\n",
       "  [59887],\n",
       "  [29],\n",
       "  [2246],\n",
       "  [465],\n",
       "  [55123],\n",
       "  [1241],\n",
       "  [3261],\n",
       "  [1441],\n",
       "  [44185],\n",
       "  [25935],\n",
       "  [7407],\n",
       "  [3722]]]"
      ]
     },
     "execution_count": 18,
     "metadata": {},
     "output_type": "execute_result"
    }
   ],
   "source": [
    "PESI_EXP = []\n",
    "importing_country_array_unique = importing_country_array_unique[0:129]\n",
    "for i in importing_country_array_unique:\n",
    "    for j in paesi_mena:\n",
    "        somma = [sum((np.array(df_sheet1[df_sheet1[\"Importing Country\"]== i][j],dtype = int)))]\n",
    "        PESI_EXP.append(somma)\n",
    "\n",
    "#PESI_EXP\n",
    "\n",
    "lu = [PESI_EXP[x:x+15] for x in range(0,1935,15)]\n",
    "#lu[0]\n",
    "\n",
    "PESI_EXP_TOT = dict()\n",
    "for country_code in importing_country_array_unique:\n",
    "    PESI_EXP_TOT[\"PESI_EXP_\"+country_code] = []\n",
    "#con questo for in pratica ogni volta sovrascrivo tutto e per questo mi restituisce sempre l'ultimo valore in li!!!!\n",
    "#occorre fare un loop non annidato\n",
    "\n",
    "\n",
    "for num,key in enumerate(PESI_EXP_TOT.keys()):\n",
    "    PESI_EXP_TOT[key].append(lu[num])\n",
    "PESI_EXP_TOT[\"PESI_EXP_AUS\"]\n",
    "\n",
    "#SONO 15 PESI CIASCUNO RAPPRESENTA LA SOMMA DEI 22 LAND EQUIVALENT PER CIASCUN PRODOTTO ESPORTATO DA\n",
    "#AUS, ALB ecc... VERSO RISPETTIVAMENTE CIASCUNO DEI 15 PAESI MENA.\n",
    "#QUINDI AD ESEMPIO IL PRIMO PESO IN PESI_EXP_TOT[\"PESI_EXP_AUS\"] RAPPRESENTA LA SOMMA DEI PRIMI 22 VALORI\n",
    "#DI FOOTPRINT SCAMBIATO FRA AUS E CIPRO, IL SECONDO LA SOMMA DEI 22 VALORI DEL FOOTPRINT SCAMBIATO FRA AUS E FRANCE ecc... \n",
    "#FINO ALL'ULTIMO CHE RAPPRESENTA LA SOMMA DEI 22 FOOTPRINTS FRA AUS E TUNISIA "
   ]
  },
  {
   "cell_type": "markdown",
   "metadata": {},
   "source": [
    "# Weights for import"
   ]
  },
  {
   "cell_type": "code",
   "execution_count": 20,
   "metadata": {},
   "outputs": [],
   "source": [
    "PESI_IMP = []\n",
    "exporting_country_array_unique = exporting_country_array_unique[0:129]\n",
    "for i in exporting_country_array_unique:\n",
    "    for j in paesi_mena:\n",
    "        somme = [sum((np.array(df_sheet2[df_sheet2[\"Exporting Country\"]== i][j],dtype = int)))]\n",
    "        PESI_IMP.append(somme)\n",
    "\n",
    "#PESI_IMP\n",
    "\n",
    "le = [PESI_IMP[x:x+15] for x in range(0,1935,15)]\n",
    "#le[0]\n",
    "\n",
    "PESI_IMP_TOT = dict()\n",
    "for country_code in exporting_country_array_unique:\n",
    "    PESI_IMP_TOT[\"PESI_IMP_\"+country_code] = []\n",
    "#con questo for in pratica ogni volta sovrascrivo tutto e per questo mi restituisce sempre l'ultimo valore in li!!!!\n",
    "#occorre fare un loop non annidato\n",
    "\n",
    "\n",
    "for num,key in enumerate(PESI_IMP_TOT.keys()):\n",
    "    PESI_IMP_TOT[key].append(le[num])\n",
    "    \n",
    "#PESI_IMP_TOT[\"PESI_IMP_AUS\"]\n",
    "#RISPETTO AI DATI PURI DEGLI ARROTONGAMENTI SONO STATI FATTI OGNI VOLTA CHE UN ARRAY VIENE TRASFORMATO\n",
    "#IN INTERO CON np.array(,dtype = int)"
   ]
  },
  {
   "cell_type": "markdown",
   "metadata": {},
   "source": [
    "## Creating the network"
   ]
  },
  {
   "cell_type": "code",
   "execution_count": 21,
   "metadata": {},
   "outputs": [],
   "source": [
    "import networkx as nx\n",
    "import matplotlib.pyplot as plt\n",
    "%matplotlib inline"
   ]
  },
  {
   "cell_type": "markdown",
   "metadata": {},
   "source": [
    "### Network for Export"
   ]
  },
  {
   "cell_type": "code",
   "execution_count": 22,
   "metadata": {},
   "outputs": [],
   "source": [
    "G_w_exp=nx.Graph()\n",
    "\n",
    "\n",
    "W=[]\n",
    "for c in exporting_country_array_unique:\n",
    "    i=0\n",
    "    for m in paesi_mena:\n",
    "        country_exp='PESI_EXP_'+c\n",
    "        w=PESI_EXP_TOT[country_exp][0][i]\n",
    "        W.append(w)\n",
    "        if c!=m:\n",
    "            G_w_exp.add_edge(c, m, weight=w[0])\n",
    "            #G_w_exp.add_weighted_edges_from()\n",
    "            #G_w_exp.add_edge(c, m)\n",
    "        i=i+1\n",
    "\n",
    "max_W=max(W)\n",
    "min_W=min(W)\n",
    "\n"
   ]
  },
  {
   "cell_type": "code",
   "execution_count": 23,
   "metadata": {},
   "outputs": [],
   "source": [
    "#G_w_exp.edges.data('weight')\n",
    "c=exporting_country_array_unique"
   ]
  },
  {
   "cell_type": "code",
   "execution_count": 24,
   "metadata": {},
   "outputs": [],
   "source": [
    "Wa=np.array(W)\n",
    "\n",
    "\n",
    "edge_W=nx.get_edge_attributes(G_w_exp,'weight')\n",
    "#plt.plot(Wa)\n",
    "#plt.show()\n",
    "\n",
    "weights=[]\n",
    "for key in edge_W:\n",
    "    if edge_W[key] >1:\n",
    "        edge_W[key] = 0.1*np.log10(edge_W[key])\n",
    "    else:\n",
    "        edge_W[key] = 0.001\n",
    "    weights.append(edge_W[key])\n",
    "    \n",
    "    "
   ]
  },
  {
   "cell_type": "code",
   "execution_count": 26,
   "metadata": {},
   "outputs": [
    {
     "data": {
      "image/png": "[encoded data removed]",
      "text/plain": [
       "<Figure size 432x288 with 1 Axes>"
      ]
     },
     "metadata": {},
     "output_type": "display_data"
    }
   ],
   "source": [
    "pos = nx.circular_layout(G_w_exp, dim=2)\n",
    "i=0\n",
    "j=0\n",
    "for key in pos:\n",
    "    if key in paesi_mena:\n",
    "        i=1\n",
    "        pos[key]= np.array([i,j])\n",
    "        j=j+0.1\n",
    "    if key not in paesi_mena:\n",
    "        pos[key]= np.array([i,j])\n",
    "        j=j+1\n",
    "        i=i+0.01\n",
    "        \n",
    "\n",
    "nx.draw(G_w_exp, pos=pos, width=weights, node_size=50, with_labels=True)\n",
    "\n",
    "\n"
   ]
  },
  {
   "cell_type": "code",
   "execution_count": null,
   "metadata": {},
   "outputs": [],
   "source": []
  },
  {
   "cell_type": "code",
   "execution_count": null,
   "metadata": {},
   "outputs": [],
   "source": []
  },
  {
   "cell_type": "code",
   "execution_count": null,
   "metadata": {},
   "outputs": [],
   "source": []
  }
 ],
 "metadata": {
  "kernelspec": {
   "display_name": "Python 3",
   "language": "python",
   "name": "python3"
  },
  "language_info": {
   "codemirror_mode": {
    "name": "ipython",
    "version": 3
   },
   "file_extension": ".py",
   "mimetype": "text/x-python",
   "name": "python",
   "nbconvert_exporter": "python",
   "pygments_lexer": "ipython3",
   "version": "3.7.0"
  },
  "toc": {
   "base_numbering": 1,
   "nav_menu": {},
   "number_sections": true,
   "sideBar": true,
   "skip_h1_title": false,
   "title_cell": "Table of Contents",
   "title_sidebar": "Contents",
   "toc_cell": false,
   "toc_position": {},
   "toc_section_display": true,
   "toc_window_display": true
  },
  "varInspector": {
   "cols": {
    "lenName": 16,
    "lenType": 16,
    "lenVar": 40
   },
   "kernels_config": {
    "python": {
     "delete_cmd_postfix": "",
     "delete_cmd_prefix": "del ",
     "library": "var_list.py",
     "varRefreshCmd": "print(var_dic_list())"
    },
    "r": {
     "delete_cmd_postfix": ") ",
     "delete_cmd_prefix": "rm(",
     "library": "var_list.r",
     "varRefreshCmd": "cat(var_dic_list()) "
    }
   },
   "types_to_exclude": [
    "module",
    "function",
    "builtin_function_or_method",
    "instance",
    "_Feature"
   ],
   "window_display": false
  }
 },
 "nbformat": 4,
 "nbformat_minor": 2
}
